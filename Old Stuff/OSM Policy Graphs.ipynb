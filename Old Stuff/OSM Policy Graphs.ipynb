{
 "cells": [
  {
   "cell_type": "code",
   "execution_count": 1,
   "id": "d39f1a0e-13e1-4f8b-97c6-3b8a5a8e1093",
   "metadata": {},
   "outputs": [],
   "source": [
    "import os\n",
    "import json\n",
    "import regex\n",
    "import datetime\n",
    "import pandas as pd\n",
    "import numpy as np\n",
    "import matplotlib.pyplot as plt\n",
    "import matplotlib.dates as mdates\n",
    "import matplotlib.lines as mlines\n",
    "import matplotlib.ticker as mticker\n",
    "import matplotlib.cm as cm\n",
    "\n",
    "from shutil import copy\n",
    "from distutils.dir_util import copy_tree\n",
    "from scipy.stats import pearsonr\n",
    "from mpl_toolkits.axes_grid1 import make_axes_locatable"
   ]
  },
  {
   "cell_type": "code",
   "execution_count": 4,
   "id": "0f30ae99-ee5a-4855-b142-ddff2be092b0",
   "metadata": {},
   "outputs": [],
   "source": [
    "def plot_fits_proj_full(table, senstable, fullfits, fitdict, \n",
    "                        bounds, basevar='SimVar', noisevar=None, endyear='2019'):\n",
    "    \"\"\"Plot projections for all variables specified in `fullfits` list, \n",
    "    with CIs specified in `bounds` (multiple CIs allowed) and names from \n",
    "    `fitdict`; show CIs without noise by default; show CIs with noise if \n",
    "    `noisevar` specified (usually as RepVar)\"\"\"\n",
    "    t, s = table, senstable # For more compact code\n",
    "    \n",
    "    # Define main figure and axes\n",
    "    fig0, axs = plt.subplots(4, 4, figsize=[14, 10], sharex=True, constrained_layout=True)\n",
    "    \n",
    "    # Plot sim output and CI bounds\n",
    "    for ax, var in zip(axs.flatten(), fullfits):\n",
    "        ax.plot(t.columns, t.loc[f'{basevar}[{var}]'])\n",
    "        for bd in bounds:\n",
    "            if noisevar: # Additionally show CIs for noise if specified\n",
    "                ax.fill_between(t.columns, s.loc[f'{noisevar}[{var}]', bd[0]], \n",
    "                                s.loc[f'{noisevar}[{var}]', bd[1]], alpha=0.2, color='grey')\n",
    "            ax.fill_between(t.columns, s.loc[f'{basevar}[{var}]', bd[0]], \n",
    "                            s.loc[f'{basevar}[{var}]', bd[1]], alpha=0.2)\n",
    "        ax.set_title(fitdict[var], fontsize=9)\n",
    "        \n",
    "        # Add vertical dashed line to mark end of data\n",
    "        ax.vlines(endyear, 0, 1, transform=ax.get_xaxis_transform(), color='r', ls='dashed')\n",
    "                \n",
    "        loc = mticker.MultipleLocator(base=8)\n",
    "        ax.xaxis.set_major_locator(loc)\n",
    "        ax.tick_params(axis='x', labelsize=7, labelrotation=90)\n",
    "\n",
    "        ax.set_ylim(0) # Anchor y axis on 0\n",
    "        ax.ticklabel_format(axis='y', style='sci', scilimits=(0,3))\n",
    "        ax.yaxis.offsetText.set_fontsize(7)\n",
    "        ax.tick_params(axis='y', labelsize=7)\n",
    "\n",
    "    return fig0"
   ]
  },
  {
   "cell_type": "code",
   "execution_count": 15,
   "id": "84359a88-1fd3-4707-b647-c74b143cc9f9",
   "metadata": {},
   "outputs": [
    {
     "ename": "NameError",
     "evalue": "name 'projfits' is not defined",
     "output_type": "error",
     "traceback": [
      "\u001b[0;31m---------------------------------------------------------------------------\u001b[0m",
      "\u001b[0;31mNameError\u001b[0m                                 Traceback (most recent call last)",
      "\u001b[0;32m<ipython-input-15-4fe51fd3da4c>\u001b[0m in \u001b[0;36m<module>\u001b[0;34m\u001b[0m\n\u001b[1;32m     21\u001b[0m \u001b[0mt\u001b[0m \u001b[0;34m=\u001b[0m \u001b[0mpd\u001b[0m\u001b[0;34m.\u001b[0m\u001b[0mread_csv\u001b[0m\u001b[0;34m(\u001b[0m\u001b[0;34mf'X_final_{basescens[0]}_vars.tab'\u001b[0m\u001b[0;34m,\u001b[0m \u001b[0msep\u001b[0m\u001b[0;34m=\u001b[0m\u001b[0;34m'\\t'\u001b[0m\u001b[0;34m,\u001b[0m \u001b[0mindex_col\u001b[0m\u001b[0;34m=\u001b[0m\u001b[0;36m0\u001b[0m\u001b[0;34m)\u001b[0m\u001b[0;34m\u001b[0m\u001b[0;34m\u001b[0m\u001b[0m\n\u001b[1;32m     22\u001b[0m \u001b[0ms\u001b[0m \u001b[0;34m=\u001b[0m \u001b[0mpd\u001b[0m\u001b[0;34m.\u001b[0m\u001b[0mread_csv\u001b[0m\u001b[0;34m(\u001b[0m\u001b[0;34mf'X_sens_{basescens[0]}_clean.tab'\u001b[0m\u001b[0;34m,\u001b[0m \u001b[0msep\u001b[0m\u001b[0;34m=\u001b[0m\u001b[0;34m'\\t'\u001b[0m\u001b[0;34m,\u001b[0m \u001b[0mindex_col\u001b[0m\u001b[0;34m=\u001b[0m\u001b[0;34m[\u001b[0m\u001b[0;36m0\u001b[0m\u001b[0;34m,\u001b[0m\u001b[0;36m1\u001b[0m\u001b[0;34m]\u001b[0m\u001b[0;34m)\u001b[0m\u001b[0;34m\u001b[0m\u001b[0;34m\u001b[0m\u001b[0m\n\u001b[0;32m---> 23\u001b[0;31m \u001b[0mplot_fits_proj_full\u001b[0m\u001b[0;34m(\u001b[0m\u001b[0mt\u001b[0m\u001b[0;34m,\u001b[0m \u001b[0ms\u001b[0m\u001b[0;34m,\u001b[0m \u001b[0mprojfits\u001b[0m\u001b[0;34m,\u001b[0m \u001b[0mfitdict\u001b[0m\u001b[0;34m,\u001b[0m \u001b[0mbounds\u001b[0m\u001b[0;34m,\u001b[0m \u001b[0mfits_y_labels\u001b[0m\u001b[0;34m,\u001b[0m \u001b[0mendyear\u001b[0m\u001b[0;34m=\u001b[0m\u001b[0mstr\u001b[0m\u001b[0;34m(\u001b[0m\u001b[0mendyear\u001b[0m\u001b[0;34m)\u001b[0m\u001b[0;34m)\u001b[0m\u001b[0;34m\u001b[0m\u001b[0;34m\u001b[0m\u001b[0m\n\u001b[0m",
      "\u001b[0;31mNameError\u001b[0m: name 'projfits' is not defined"
     ]
    }
   ],
   "source": [
    "##### PLOT PROJECTIONS, GOF STATISTICS #####\n",
    "basescens = [# \"BaseAltPackage\", \n",
    "             \"BaseBupProv\", \n",
    "             \"BaseBupProvBarriers\", \n",
    "             \"BaseDiversion\", \n",
    "             \"BaseDivRxInit\", \n",
    "             \"BaseFentODRisk\", \n",
    "             \"BaseHInit\", \n",
    "             \"BaseMMEperRx\", \n",
    "             \"BaseMMTCapInc\", \n",
    "             \"BaseNxKits\", \n",
    "             \"BaseOwnRxInit\", \n",
    "             # \"BasePackage\",\n",
    "             \"BasePeerRecovery\", \n",
    "             \"BaseReturntoOUD\", \n",
    "             \"BaseRxDuration\", \n",
    "             \"BaseRxRate\", \n",
    "             \"BaseXRNTXCap\"]\n",
    "\n",
    "fullfits = ['InRM', 'InRD', 'RMis', 'NDHU', 'ROUD', 'ROUH', 'HUD', 'TxBp', \n",
    "            'InHD', 'InHR', 'InHO', 'InHT', 'ODRB', 'ODSB', 'ODHC', 'ODTo']\n",
    "\n",
    "# Create basic projections graph for selected variables\n",
    "t = pd.read_csv(f'X_final_{basescens[0]}_vars.tab', sep='\\t', index_col=0)\n",
    "s = pd.read_csv(f'X_sens_{basescens[0]}_clean.tab', sep='\\t', index_col=[0,1])\n",
    "plot_fits_proj_full(t, s, projfits, fitdict, bounds, fits_y_labels, endyear=str(endyear))\n"
   ]
  },
  {
   "cell_type": "code",
   "execution_count": 25,
   "id": "b6850f10-e6fe-4fb9-9f1b-6ae07f2befbd",
   "metadata": {},
   "outputs": [
    {
     "name": "stdout",
     "output_type": "stream",
     "text": [
      "Time\n",
      "ADF effect coeff initiating heroin with Rx OUD         1.000\n",
      "ADF fraction of prescribed Rx opioids                  0.000\n",
      "ADF fraction of Rx street supply base                  0.000\n",
      "ADF fraction of Rx street supply net                   0.000\n",
      "Average MME per opioid Rx                            535.108\n",
      "                                                     ...    \n",
      "Tx annual patients Bup IQVIA TPT                       0.000\n",
      "Tx point patients Bup DATA                             0.000\n",
      "Tx point patients OTP MMT NSSATS                  159054.000\n",
      "Tx point patients Viv IQVIA                            0.000\n",
      "Viv capacity estimated DATA                            0.000\n",
      "Name: 1999, Length: 885, dtype: float64\n"
     ]
    }
   ],
   "source": []
  },
  {
   "cell_type": "code",
   "execution_count": null,
   "id": "3d8adda3-2015-4f72-944a-97090197fb99",
   "metadata": {},
   "outputs": [],
   "source": []
  }
 ],
 "metadata": {
  "kernelspec": {
   "display_name": "Python 3",
   "language": "python",
   "name": "python3"
  },
  "language_info": {
   "codemirror_mode": {
    "name": "ipython",
    "version": 3
   },
   "file_extension": ".py",
   "mimetype": "text/x-python",
   "name": "python",
   "nbconvert_exporter": "python",
   "pygments_lexer": "ipython3",
   "version": "3.7.3"
  }
 },
 "nbformat": 4,
 "nbformat_minor": 5
}
